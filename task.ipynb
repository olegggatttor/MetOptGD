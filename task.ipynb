{
 "cells": [
  {
   "cell_type": "code",
   "execution_count": 55,
   "metadata": {},
   "outputs": [],
   "source": [
    "import numpy as np\n",
    "import matplotlib.pyplot as plt\n",
    "import os\n",
    "import imageio"
   ]
  },
  {
   "cell_type": "code",
   "execution_count": 56,
   "metadata": {
    "pycharm": {
     "name": "#%%\n"
    }
   },
   "outputs": [],
   "source": [
    "class GradientDescent:\n",
    "    def __init__(self, scheduler, epochs, f_samples, x0):\n",
    "        \"\"\"\n",
    "        :param lr: learning rate\n",
    "        \"\"\"\n",
    "        self.scheduler = scheduler\n",
    "        self.weights =  x0\n",
    "        self.epochs = epochs\n",
    "        self.f_samples = f_samples\n",
    "\n",
    "\n",
    "    def train(self, f_gradient, f, gifname):\n",
    "        try:\n",
    "            os.mkdir('gifs')\n",
    "        except Exception:\n",
    "            import shutil\n",
    "            shutil.rmtree('gifs')\n",
    "            os.mkdir('gifs')\n",
    "\n",
    "        for i in range(self.epochs):\n",
    "            lr = self.scheduler.step()\n",
    "            self.weights = self.weights - lr * f_gradient(self.weights)\n",
    "\n",
    "            if i % 1 == 0:\n",
    "                plt.scatter(self.f_samples[0], self.f_samples[1], c='blue')\n",
    "                plt.scatter(self.weights, f(self.weights), c='yellow')\n",
    "                plt.title(f'Epoch: {i}')\n",
    "                plt.xlabel('x')\n",
    "                plt.ylabel('y')\n",
    "                plt.savefig(f\"gifs/{i}.jpg\")\n",
    "        plt.clf()\n",
    "\n",
    "        with imageio.get_writer(f'{gifname}.gif', mode='I') as writer:\n",
    "            for filename in sorted(os.listdir('gifs'), key=lambda x: int(x.split('.')[0])):\n",
    "                image = imageio.imread(f\"gifs/{filename}\")\n",
    "                writer.append_data(image)"
   ]
  },
  {
   "cell_type": "code",
   "execution_count": 57,
   "metadata": {
    "pycharm": {
     "name": "#%%\n"
    }
   },
   "outputs": [],
   "source": [
    "f = lambda x: (x ** 3) / 3 - (x ** 2) / 2 - x - 1\n",
    "f_grad = lambda weights: weights ** 2 - weights - 1\n",
    "# f = lambda x: x ** 2 + 4\n",
    "# f_grad = lambda weights: 2 * weights"
   ]
  },
  {
   "cell_type": "code",
   "execution_count": 58,
   "metadata": {
    "pycharm": {
     "name": "#%%\n"
    }
   },
   "outputs": [],
   "source": [
    "xs = np.linspace(-5, 5, 1000)\n",
    "ys = np.vectorize(f)(xs)"
   ]
  },
  {
   "cell_type": "code",
   "execution_count": 59,
   "metadata": {
    "pycharm": {
     "name": "#%%\n"
    }
   },
   "outputs": [],
   "source": [
    "class Scheduler:\n",
    "    def __init__(self, start_lr):\n",
    "        self.start_lr = start_lr"
   ]
  },
  {
   "cell_type": "code",
   "execution_count": 60,
   "metadata": {
    "pycharm": {
     "name": "#%%\n"
    }
   },
   "outputs": [],
   "source": [
    "class ConstantScheduler(Scheduler):\n",
    "    def __init__(self, start_lr):\n",
    "        Scheduler.__init__(self, start_lr)\n",
    "\n",
    "    def step(self):\n",
    "        return self.start_lr"
   ]
  },
  {
   "cell_type": "code",
   "execution_count": 61,
   "metadata": {
    "pycharm": {
     "name": "#%%\n"
    }
   },
   "outputs": [],
   "source": [
    "class StepScheduler(Scheduler):\n",
    "    def __init__(self, start_lr, scheduler_step, gamma):\n",
    "        assert scheduler_step > 0\n",
    "\n",
    "        Scheduler.__init__(self, start_lr)\n",
    "        self.cur_step = 0\n",
    "        self.scheduler_step = scheduler_step\n",
    "        self.gamma = gamma\n",
    "\n",
    "    def step(self):\n",
    "        self.cur_step += 1\n",
    "        if self.cur_step % self.scheduler_step == 0:\n",
    "            self.start_lr = self.gamma * self.start_lr\n",
    "        return self.start_lr"
   ]
  },
  {
   "cell_type": "markdown",
   "metadata": {},
   "source": [
    "## Пункт 1 - Constat LR GD"
   ]
  },
  {
   "cell_type": "code",
   "execution_count": 62,
   "metadata": {
    "pycharm": {
     "name": "#%%\n"
    }
   },
   "outputs": [
    {
     "data": {
      "text/plain": [
       "<Figure size 432x288 with 0 Axes>"
      ]
     },
     "metadata": {},
     "output_type": "display_data"
    }
   ],
   "source": [
    "const_scheduler = ConstantScheduler(1)\n",
    "const_trainer = GradientDescent(const_scheduler, 50, (xs, ys), x0=np.array([4]))\n",
    "const_trainer.train(f_grad, f, 'const_lr=1')"
   ]
  },
  {
   "cell_type": "markdown",
   "metadata": {},
   "source": [
    "![SegmentLocal](const_lr=1.gif \"segment\")"
   ]
  },
  {
   "cell_type": "code",
   "execution_count": 63,
   "metadata": {
    "pycharm": {
     "name": "#%%\n"
    }
   },
   "outputs": [
    {
     "data": {
      "text/plain": [
       "<Figure size 432x288 with 0 Axes>"
      ]
     },
     "metadata": {},
     "output_type": "display_data"
    }
   ],
   "source": [
    "const_scheduler = ConstantScheduler(1e-2)\n",
    "const_trainer = GradientDescent(const_scheduler, 50, (xs, ys), x0=np.array([4]))\n",
    "const_trainer.train(f_grad, f, 'const_lr=1e-2')"
   ]
  },
  {
   "cell_type": "markdown",
   "metadata": {},
   "source": [
    "![SegmentLocal](const_lr=1e-2.gif \"segment\")"
   ]
  },
  {
   "cell_type": "markdown",
   "metadata": {},
   "source": [
    "# Пункт 2 - Step LR GD"
   ]
  },
  {
   "cell_type": "code",
   "execution_count": 64,
   "metadata": {
    "pycharm": {
     "name": "#%%\n"
    }
   },
   "outputs": [
    {
     "data": {
      "text/plain": [
       "<Figure size 432x288 with 0 Axes>"
      ]
     },
     "metadata": {},
     "output_type": "display_data"
    }
   ],
   "source": [
    "step_scheduler = StepScheduler(1, scheduler_step=15, gamma=0.1)\n",
    "step_trainer = GradientDescent(step_scheduler, 50, (xs, ys), x0=np.array([4]))\n",
    "step_trainer.train(f_grad, f, 'step')"
   ]
  },
  {
   "cell_type": "markdown",
   "metadata": {
    "pycharm": {
     "name": "#%% md\n"
    }
   },
   "source": [
    "![SegmentLocal](step.gif \"segment\")"
   ]
  },
  {
   "cell_type": "markdown",
   "metadata": {
    "pycharm": {
     "name": "#%%\n"
    }
   },
   "source": [
    "# Пункт 3 - Дихотомия"
   ]
  },
  {
   "cell_type": "code",
   "execution_count": 65,
   "metadata": {},
   "outputs": [],
   "source": [
    "DEFAULT_EPS = 1e-3"
   ]
  },
  {
   "cell_type": "code",
   "execution_count": 66,
   "metadata": {},
   "outputs": [],
   "source": [
    "def dichotomy(f, f_samples, gif_folder, gifname, eps=DEFAULT_EPS, plot=True):\n",
    "    delta = eps / 3\n",
    "    os.mkdir(gif_folder)\n",
    "    def step(old_interval, cnt=0):\n",
    "        a, b = old_interval\n",
    "        mid = (a + b) / 2\n",
    "\n",
    "        if plot:\n",
    "            plt.scatter(f_samples[0], f_samples[1], c='blue')\n",
    "            plt.scatter(mid, f(mid), c='yellow')\n",
    "            plt.title(f'Epoch: {cnt}')\n",
    "            plt.xlabel('x')\n",
    "            plt.ylabel('y')\n",
    "            plt.savefig(f\"{gif_folder}/{cnt}.jpg\")\n",
    "            plt.clf()\n",
    "\n",
    "            with imageio.get_writer(f'{gifname}.gif', mode='I') as writer:\n",
    "                for filename in sorted(os.listdir(gif_folder), key=lambda x: int(x.split('.')[0])):\n",
    "                    image = imageio.imread(f\"{gif_folder}/{filename}\")\n",
    "                    writer.append_data(image)\n",
    "\n",
    "        if b - a < eps:\n",
    "            return mid\n",
    "\n",
    "        x1, x2 = mid - delta, mid + delta\n",
    "        fx1, fx2 = f(x1), f(x2)\n",
    "\n",
    "        if fx1 < fx2:\n",
    "            new_interval = (a, x2)\n",
    "        elif fx1 > fx2:\n",
    "            new_interval = (x1, b)\n",
    "        else:\n",
    "            new_interval = (x1, x2)\n",
    "\n",
    "        return step(new_interval, cnt+1)\n",
    "\n",
    "    return step"
   ]
  },
  {
   "cell_type": "code",
   "execution_count": 68,
   "metadata": {},
   "outputs": [],
   "source": [
    "dichotomy_algo = dichotomy(f, (xs, ys), \"dichotomy\", \"simple_dichotomy\")"
   ]
  },
  {
   "cell_type": "code",
   "execution_count": null,
   "metadata": {
    "pycharm": {
     "name": "#%%\n"
    }
   },
   "outputs": [],
   "source": [
    "dichotomy_algo([-1000, 1000])"
   ]
  },
  {
   "cell_type": "markdown",
   "metadata": {
    "pycharm": {
     "name": "#%% md\n"
    }
   },
   "source": [
    "![SegmentLocal](simple_dichotomy.gif \"segment\")"
   ]
  },
  {
   "cell_type": "code",
   "execution_count": null,
   "metadata": {
    "pycharm": {
     "name": "#%%\n"
    }
   },
   "outputs": [],
   "source": []
  }
 ],
 "metadata": {
  "kernelspec": {
   "display_name": "Python 3 (ipykernel)",
   "language": "python",
   "name": "python3"
  },
  "language_info": {
   "codemirror_mode": {
    "name": "ipython",
    "version": 3
   },
   "file_extension": ".py",
   "mimetype": "text/x-python",
   "name": "python",
   "nbconvert_exporter": "python",
   "pygments_lexer": "ipython3",
   "version": "3.9.5"
  }
 },
 "nbformat": 4,
 "nbformat_minor": 1
}